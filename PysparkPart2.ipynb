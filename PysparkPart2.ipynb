{
 "cells": [
  {
   "cell_type": "code",
   "execution_count": 2,
   "metadata": {},
   "outputs": [],
   "source": [
    "from pyspark.sql import SparkSession\n",
    "spark = SparkSession.builder.appName('Practice').getOrCreate()"
   ]
  },
  {
   "cell_type": "code",
   "execution_count": 17,
   "metadata": {},
   "outputs": [],
   "source": [
    "df = spark.read.csv('test2.csv',header=True,inferSchema=True)"
   ]
  },
  {
   "cell_type": "code",
   "execution_count": 10,
   "metadata": {},
   "outputs": [
    {
     "name": "stdout",
     "output_type": "stream",
     "text": [
      "+-----+----+----------+-------+\n",
      "| Name| Age|Experience| Salary|\n",
      "+-----+----+----------+-------+\n",
      "|  ALI|  25|        10| 5000.0|\n",
      "|JACOB|  56|         5|40000.0|\n",
      "| JOHN|  12|         8|30000.0|\n",
      "| null|  30|         9|10000.0|\n",
      "| null|null|      null|90000.0|\n",
      "| null|null|      null|   null|\n",
      "+-----+----+----------+-------+\n",
      "\n"
     ]
    }
   ],
   "source": [
    "df.show()"
   ]
  },
  {
   "cell_type": "code",
   "execution_count": 5,
   "metadata": {},
   "outputs": [
    {
     "name": "stdout",
     "output_type": "stream",
     "text": [
      "+---+----------+-------+\n",
      "|Age|Experience| Salary|\n",
      "+---+----------+-------+\n",
      "| 25|        10| 5000.0|\n",
      "| 56|         5|40000.0|\n",
      "| 12|         8|30000.0|\n",
      "+---+----------+-------+\n",
      "\n"
     ]
    }
   ],
   "source": [
    "df.drop('Name').show()"
   ]
  },
  {
   "cell_type": "code",
   "execution_count": 11,
   "metadata": {},
   "outputs": [
    {
     "name": "stdout",
     "output_type": "stream",
     "text": [
      "+-----+---+----------+-------+\n",
      "| Name|Age|Experience| Salary|\n",
      "+-----+---+----------+-------+\n",
      "|  ALI| 25|        10| 5000.0|\n",
      "|JACOB| 56|         5|40000.0|\n",
      "| JOHN| 12|         8|30000.0|\n",
      "+-----+---+----------+-------+\n",
      "\n"
     ]
    }
   ],
   "source": [
    "#drop the whole row if any cell is null\n",
    "df.na.drop().show()"
   ]
  },
  {
   "cell_type": "code",
   "execution_count": 14,
   "metadata": {},
   "outputs": [
    {
     "name": "stdout",
     "output_type": "stream",
     "text": [
      "+-----+----+----------+-------+\n",
      "| Name| Age|Experience| Salary|\n",
      "+-----+----+----------+-------+\n",
      "|  ALI|  25|        10| 5000.0|\n",
      "|JACOB|  56|         5|40000.0|\n",
      "| JOHN|  12|         8|30000.0|\n",
      "| null|  30|         9|10000.0|\n",
      "| null|null|      null|90000.0|\n",
      "+-----+----+----------+-------+\n",
      "\n",
      "+-----+---+----------+-------+\n",
      "| Name|Age|Experience| Salary|\n",
      "+-----+---+----------+-------+\n",
      "|  ALI| 25|        10| 5000.0|\n",
      "|JACOB| 56|         5|40000.0|\n",
      "| JOHN| 12|         8|30000.0|\n",
      "| null| 30|         9|10000.0|\n",
      "+-----+---+----------+-------+\n",
      "\n"
     ]
    }
   ],
   "source": [
    "#drop if all cells of a row is null\n",
    "df.na.drop(how='all').show()\n",
    "#drop the row if it got less than two none null cells\n",
    "df.na.drop(how='all',thresh=2).show()"
   ]
  },
  {
   "cell_type": "code",
   "execution_count": 15,
   "metadata": {},
   "outputs": [
    {
     "name": "stdout",
     "output_type": "stream",
     "text": [
      "+-----+---+----------+-------+\n",
      "| Name|Age|Experience| Salary|\n",
      "+-----+---+----------+-------+\n",
      "|  ALI| 25|        10| 5000.0|\n",
      "|JACOB| 56|         5|40000.0|\n",
      "| JOHN| 12|         8|30000.0|\n",
      "| null| 30|         9|10000.0|\n",
      "+-----+---+----------+-------+\n",
      "\n"
     ]
    }
   ],
   "source": [
    "#if na is in a certain columns drop it\n",
    "df.na.drop(how=\"any\",subset=['Age']).show()"
   ]
  },
  {
   "cell_type": "code",
   "execution_count": 18,
   "metadata": {
    "scrolled": true
   },
   "outputs": [
    {
     "name": "stdout",
     "output_type": "stream",
     "text": [
      "+--------------+----+----------+-------+\n",
      "|          Name| Age|Experience| Salary|\n",
      "+--------------+----+----------+-------+\n",
      "|           ALI|  25|        10| 5000.0|\n",
      "|         JACOB|  56|         5|40000.0|\n",
      "|          JOHN|  12|         8|30000.0|\n",
      "|Missing Values|  30|         9|10000.0|\n",
      "|Missing Values|null|      null|90000.0|\n",
      "|Missing Values|null|      null|   null|\n",
      "+--------------+----+----------+-------+\n",
      "\n"
     ]
    }
   ],
   "source": [
    "#fill nas\n",
    "df.na.fill('Missing Values').show()"
   ]
  },
  {
   "cell_type": "code",
   "execution_count": 21,
   "metadata": {},
   "outputs": [
    {
     "name": "stdout",
     "output_type": "stream",
     "text": [
      "+-----+----+----------+-------+\n",
      "| Name| Age|Experience| Salary|\n",
      "+-----+----+----------+-------+\n",
      "|  ALI|  25|        10| 5000.0|\n",
      "|JACOB|  56|         5|40000.0|\n",
      "| JOHN|  12|         8|30000.0|\n",
      "| null|  30|         9|10000.0|\n",
      "| null|null|      null|90000.0|\n",
      "| null|null|      null|   null|\n",
      "+-----+----+----------+-------+\n",
      "\n",
      "+-----+----+----------+-------+\n",
      "| Name| Age|Experience| Salary|\n",
      "+-----+----+----------+-------+\n",
      "|  ALI|  25|        10| 5000.0|\n",
      "|JACOB|  56|         5|40000.0|\n",
      "| JOHN|  12|         8|30000.0|\n",
      "| null|  30|         9|10000.0|\n",
      "| null|null|      null|90000.0|\n",
      "| null|null|      null|   null|\n",
      "+-----+----+----------+-------+\n",
      "\n"
     ]
    }
   ],
   "source": [
    "#specific column\n",
    "df.na.fill('Missing Values','Experience').show()\n",
    "#multiple columns\n",
    "df.na.fill('Missing Values',['Experience','Age']).show()"
   ]
  },
  {
   "cell_type": "code",
   "execution_count": 31,
   "metadata": {},
   "outputs": [
    {
     "name": "stdout",
     "output_type": "stream",
     "text": [
      "+-----+----+----------+-------+-----------+------------------+--------------+\n",
      "| Name| Age|Experience| Salary|Age_imputed|Experience_imputed|Salary_imputed|\n",
      "+-----+----+----------+-------+-----------+------------------+--------------+\n",
      "|  ALI|  25|        10| 5000.0|         25|                10|        5000.0|\n",
      "|JACOB|  56|         5|40000.0|         56|                 5|       40000.0|\n",
      "| JOHN|  12|         8|30000.0|         12|                 8|       30000.0|\n",
      "| null|  30|         9|10000.0|         30|                 9|       10000.0|\n",
      "| null|null|      null|90000.0|         30|                 8|       90000.0|\n",
      "| null|null|      null|   null|         30|                 8|       35000.0|\n",
      "+-----+----+----------+-------+-----------+------------------+--------------+\n",
      "\n"
     ]
    }
   ],
   "source": [
    "#filling the na using imputer\n",
    "from pyspark.ml.feature import Imputer\n",
    "imputer = Imputer(\n",
    "inputCols = ['Age','Experience','Salary'],\n",
    "    outputCols = [\"{}_imputed\".format(c) for c in ['Age','Experience','Salary']]).setStrategy('mean')\n",
    "imputer.fit(df).transform(df).show()"
   ]
  },
  {
   "cell_type": "markdown",
   "metadata": {},
   "source": [
    "### filters"
   ]
  },
  {
   "cell_type": "code",
   "execution_count": 39,
   "metadata": {},
   "outputs": [
    {
     "name": "stdout",
     "output_type": "stream",
     "text": [
      "+----+---+----------+-------+\n",
      "|Name|Age|Experience| Salary|\n",
      "+----+---+----------+-------+\n",
      "| ALI| 25|        10| 5000.0|\n",
      "|null| 30|         9|10000.0|\n",
      "+----+---+----------+-------+\n",
      "\n",
      "+----+---+----------+-------+\n",
      "|Name|Age|Experience| Salary|\n",
      "+----+---+----------+-------+\n",
      "| ALI| 25|        10| 5000.0|\n",
      "|null| 30|         9|10000.0|\n",
      "+----+---+----------+-------+\n",
      "\n",
      "+-----+----+----------+-------+\n",
      "| Name| Age|Experience| Salary|\n",
      "+-----+----+----------+-------+\n",
      "|JACOB|  56|         5|40000.0|\n",
      "| JOHN|  12|         8|30000.0|\n",
      "| null|null|      null|90000.0|\n",
      "+-----+----+----------+-------+\n",
      "\n"
     ]
    }
   ],
   "source": [
    "df.filter('Salary <= 20000').show()\n",
    "#or\n",
    "df.filter(df['Salary']<=20000).show()\n",
    "#this is the inverse or not of the above\n",
    "df.filter(~(df['Salary']<=20000)).show()"
   ]
  },
  {
   "cell_type": "code",
   "execution_count": 33,
   "metadata": {},
   "outputs": [
    {
     "name": "stdout",
     "output_type": "stream",
     "text": [
      "+----+---+\n",
      "|Name|Age|\n",
      "+----+---+\n",
      "| ALI| 25|\n",
      "|null| 30|\n",
      "+----+---+\n",
      "\n"
     ]
    }
   ],
   "source": [
    "#show only two columns\n",
    "df.filter('Salary <= 20000').select('Name','Age').show()"
   ]
  },
  {
   "cell_type": "code",
   "execution_count": 34,
   "metadata": {},
   "outputs": [
    {
     "name": "stdout",
     "output_type": "stream",
     "text": [
      "+----+---+----------+-------+\n",
      "|Name|Age|Experience| Salary|\n",
      "+----+---+----------+-------+\n",
      "| ALI| 25|        10| 5000.0|\n",
      "|null| 30|         9|10000.0|\n",
      "+----+---+----------+-------+\n",
      "\n"
     ]
    }
   ],
   "source": [
    "#two conditions\n",
    "df.filter(df['Salary']<=20000).show()"
   ]
  },
  {
   "cell_type": "code",
   "execution_count": 38,
   "metadata": {},
   "outputs": [
    {
     "name": "stdout",
     "output_type": "stream",
     "text": [
      "+----+---+----------+-------+\n",
      "|Name|Age|Experience| Salary|\n",
      "+----+---+----------+-------+\n",
      "|null| 30|         9|10000.0|\n",
      "+----+---+----------+-------+\n",
      "\n"
     ]
    }
   ],
   "source": [
    "df.filter((df['Salary']<=20000) & (df['Age']>=30)).show()"
   ]
  },
  {
   "cell_type": "code",
   "execution_count": 42,
   "metadata": {},
   "outputs": [
    {
     "name": "stdout",
     "output_type": "stream",
     "text": [
      "+-----+----+----------+-------+----------+\n",
      "| Name| Age|Experience| Salary|Department|\n",
      "+-----+----+----------+-------+----------+\n",
      "|  ALI|  25|        10| 5000.0|    physic|\n",
      "|JACOB|  56|         5|40000.0|   geology|\n",
      "| JOHN|  12|         8|30000.0|    physic|\n",
      "| null|  30|         9|10000.0|   geology|\n",
      "| null|null|      null|90000.0|      data|\n",
      "| null|null|      null|   null|    device|\n",
      "|  ALI|  25|        10| 5000.0|    physic|\n",
      "|JACOB|  56|         5|40000.0|   geology|\n",
      "| JOHN|  12|         8|30000.0|    physic|\n",
      "| null|  30|         9|10000.0|   geology|\n",
      "| null|null|      null|90000.0|      data|\n",
      "| null|null|      null|   null|    device|\n",
      "+-----+----+----------+-------+----------+\n",
      "\n"
     ]
    }
   ],
   "source": [
    "df2 = spark.read.csv('test3.csv',header=True,inferSchema=True)\n",
    "df2.show()"
   ]
  },
  {
   "cell_type": "code",
   "execution_count": 45,
   "metadata": {},
   "outputs": [
    {
     "name": "stdout",
     "output_type": "stream",
     "text": [
      "+-----+--------+---------------+-----------+\n",
      "| Name|sum(Age)|sum(Experience)|sum(Salary)|\n",
      "+-----+--------+---------------+-----------+\n",
      "|  ALI|      50|             20|    10000.0|\n",
      "| null|      60|             18|   200000.0|\n",
      "| JOHN|      24|             16|    60000.0|\n",
      "|JACOB|     112|             10|    80000.0|\n",
      "+-----+--------+---------------+-----------+\n",
      "\n"
     ]
    }
   ],
   "source": [
    "#groupby, meaning sum the salary, age, and expereince of all ALIs\n",
    "df2.groupby('Name').sum().show()"
   ]
  },
  {
   "cell_type": "code",
   "execution_count": 47,
   "metadata": {},
   "outputs": [
    {
     "name": "stdout",
     "output_type": "stream",
     "text": [
      "+----------+--------+---------------+-----------+\n",
      "|Department|sum(Age)|sum(Experience)|sum(Salary)|\n",
      "+----------+--------+---------------+-----------+\n",
      "|    physic|      74|             36|    70000.0|\n",
      "|    device|    null|           null|       null|\n",
      "|      data|    null|           null|   180000.0|\n",
      "|   geology|     172|             28|   100000.0|\n",
      "+----------+--------+---------------+-----------+\n",
      "\n",
      "+----------+--------+---------------+-----------+\n",
      "|Department|avg(Age)|avg(Experience)|avg(Salary)|\n",
      "+----------+--------+---------------+-----------+\n",
      "|    physic|    18.5|            9.0|    17500.0|\n",
      "|    device|    null|           null|       null|\n",
      "|      data|    null|           null|    90000.0|\n",
      "|   geology|    43.0|            7.0|    25000.0|\n",
      "+----------+--------+---------------+-----------+\n",
      "\n",
      "+----------+-----+\n",
      "|Department|count|\n",
      "+----------+-----+\n",
      "|    physic|    4|\n",
      "|    device|    2|\n",
      "|      data|    2|\n",
      "|   geology|    4|\n",
      "+----------+-----+\n",
      "\n"
     ]
    }
   ],
   "source": [
    "#groub all the departments\n",
    "df2.groupby('Department').sum().show()\n",
    "df2.groupby('Department').mean().show()\n",
    "df2.groupby('Department').count().show()\n"
   ]
  },
  {
   "cell_type": "code",
   "execution_count": 49,
   "metadata": {},
   "outputs": [
    {
     "name": "stdout",
     "output_type": "stream",
     "text": [
      "+-----------+\n",
      "|avg(Salary)|\n",
      "+-----------+\n",
      "|    35000.0|\n",
      "+-----------+\n",
      "\n"
     ]
    }
   ],
   "source": [
    "#you can also do the groupby like this\n",
    "df2.agg({'Salary':'mean'}).show()"
   ]
  },
  {
   "cell_type": "code",
   "execution_count": 51,
   "metadata": {},
   "outputs": [
    {
     "name": "stdout",
     "output_type": "stream",
     "text": [
      "+-----+--------+---------------+-----------+\n",
      "| Name|max(Age)|max(Experience)|max(Salary)|\n",
      "+-----+--------+---------------+-----------+\n",
      "|  ALI|      25|             10|     5000.0|\n",
      "| null|      30|              9|    90000.0|\n",
      "| JOHN|      12|              8|    30000.0|\n",
      "|JACOB|      56|              5|    40000.0|\n",
      "+-----+--------+---------------+-----------+\n",
      "\n"
     ]
    }
   ],
   "source": [
    "#show those who get the highest salary\n",
    "df2.groupby('Name').max().show()"
   ]
  },
  {
   "cell_type": "code",
   "execution_count": null,
   "metadata": {},
   "outputs": [],
   "source": []
  }
 ],
 "metadata": {
  "kernelspec": {
   "display_name": "Python 3",
   "language": "python",
   "name": "python3"
  },
  "language_info": {
   "codemirror_mode": {
    "name": "ipython",
    "version": 3
   },
   "file_extension": ".py",
   "mimetype": "text/x-python",
   "name": "python",
   "nbconvert_exporter": "python",
   "pygments_lexer": "ipython3",
   "version": "3.8.5"
  }
 },
 "nbformat": 4,
 "nbformat_minor": 4
}
