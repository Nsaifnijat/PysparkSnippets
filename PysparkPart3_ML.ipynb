{
 "cells": [
  {
   "cell_type": "code",
   "execution_count": 8,
   "metadata": {},
   "outputs": [],
   "source": [
    "from pyspark.sql import SparkSession\n",
    "spark = SparkSession.builder.appName('Practice').getOrCreate()"
   ]
  },
  {
   "cell_type": "code",
   "execution_count": 9,
   "metadata": {},
   "outputs": [
    {
     "name": "stdout",
     "output_type": "stream",
     "text": [
      "+-----+---+----------+------+\n",
      "| Name|Age|Experience|Salary|\n",
      "+-----+---+----------+------+\n",
      "|  ali| 23|         5| 50000|\n",
      "|abbas| 21|         4| 40000|\n",
      "|yasin| 20|         5| 30000|\n",
      "| wali| 23|         6| 20000|\n",
      "|jawed| 30|         7| 25000|\n",
      "|shura| 40|         9| 60000|\n",
      "| bula| 60|        18| 90000|\n",
      "+-----+---+----------+------+\n",
      "\n"
     ]
    }
   ],
   "source": [
    "training = spark.read.csv('test4.csv',header=True,inferSchema=True)\n",
    "training.show()"
   ]
  },
  {
   "cell_type": "code",
   "execution_count": 13,
   "metadata": {},
   "outputs": [],
   "source": [
    "#the following is gonna combine two features into one feature\n",
    "from pyspark.ml.feature import VectorAssembler\n",
    "featureassembler = VectorAssembler(inputCols=['Age','Experience'], outputCol='Independent Features')"
   ]
  },
  {
   "cell_type": "code",
   "execution_count": 12,
   "metadata": {},
   "outputs": [
    {
     "name": "stdout",
     "output_type": "stream",
     "text": [
      "+-----+---+----------+------+--------------------+\n",
      "| Name|Age|Experience|Salary|Independent Features|\n",
      "+-----+---+----------+------+--------------------+\n",
      "|  ali| 23|         5| 50000|          [23.0,5.0]|\n",
      "|abbas| 21|         4| 40000|          [21.0,4.0]|\n",
      "|yasin| 20|         5| 30000|          [20.0,5.0]|\n",
      "| wali| 23|         6| 20000|          [23.0,6.0]|\n",
      "|jawed| 30|         7| 25000|          [30.0,7.0]|\n",
      "|shura| 40|         9| 60000|          [40.0,9.0]|\n",
      "| bula| 60|        18| 90000|         [60.0,18.0]|\n",
      "+-----+---+----------+------+--------------------+\n",
      "\n"
     ]
    }
   ],
   "source": [
    "#apply the assembler to the dataframe\n",
    "output = featureassembler.transform(training)\n",
    "output.show()"
   ]
  },
  {
   "cell_type": "code",
   "execution_count": 17,
   "metadata": {},
   "outputs": [
    {
     "name": "stdout",
     "output_type": "stream",
     "text": [
      "+--------------------+------+\n",
      "|Independent Features|Salary|\n",
      "+--------------------+------+\n",
      "|          [23.0,5.0]| 50000|\n",
      "|          [21.0,4.0]| 40000|\n",
      "|          [20.0,5.0]| 30000|\n",
      "|          [23.0,6.0]| 20000|\n",
      "|          [30.0,7.0]| 25000|\n",
      "|          [40.0,9.0]| 60000|\n",
      "|         [60.0,18.0]| 90000|\n",
      "+--------------------+------+\n",
      "\n"
     ]
    }
   ],
   "source": [
    "finalized_data = output.select(\"Independent Features\",'Salary')\n",
    "finalized_data.show()"
   ]
  },
  {
   "cell_type": "code",
   "execution_count": 27,
   "metadata": {},
   "outputs": [
    {
     "name": "stdout",
     "output_type": "stream",
     "text": [
      "+--------------------+------+\n",
      "|Independent Features|Salary|\n",
      "+--------------------+------+\n",
      "|          [21.0,4.0]| 40000|\n",
      "|          [23.0,5.0]| 50000|\n",
      "|          [23.0,6.0]| 20000|\n",
      "|          [30.0,7.0]| 25000|\n",
      "|          [40.0,9.0]| 60000|\n",
      "|         [60.0,18.0]| 90000|\n",
      "+--------------------+------+\n",
      "\n"
     ]
    }
   ],
   "source": [
    "from pyspark.ml.regression import LinearRegression\n",
    "#train test split\n",
    "training_data,test_data = finalized_data.randomSplit([0.75,0.25])\n",
    "#the feature which is used for the prediction of the salary is Independent Features column\n",
    "regressor = LinearRegression(featuresCol = 'Independent Features', labelCol = 'Salary')\n",
    "regressor = regressor.fit(training_data)"
   ]
  },
  {
   "cell_type": "code",
   "execution_count": 30,
   "metadata": {},
   "outputs": [
    {
     "data": {
      "text/plain": [
       "DenseVector([2353.7647, -2695.1491])"
      ]
     },
     "execution_count": 30,
     "metadata": {},
     "output_type": "execute_result"
    }
   ],
   "source": [
    "regressor.coefficients"
   ]
  },
  {
   "cell_type": "code",
   "execution_count": 29,
   "metadata": {},
   "outputs": [
    {
     "data": {
      "text/plain": [
       "-7771.555795437236"
      ]
     },
     "execution_count": 29,
     "metadata": {},
     "output_type": "execute_result"
    }
   ],
   "source": [
    "regressor.intercept"
   ]
  },
  {
   "cell_type": "code",
   "execution_count": 31,
   "metadata": {},
   "outputs": [
    {
     "name": "stdout",
     "output_type": "stream",
     "text": [
      "+--------------------+------+------------------+\n",
      "|Independent Features|Salary|        prediction|\n",
      "+--------------------+------+------------------+\n",
      "|          [20.0,5.0]| 30000|25827.992173796512|\n",
      "+--------------------+------+------------------+\n",
      "\n"
     ]
    }
   ],
   "source": [
    "#see how accurately it predicts\n",
    "pred_result = regressor.evaluate(test_data)\n",
    "pred_result.predictions.show()"
   ]
  },
  {
   "cell_type": "code",
   "execution_count": 32,
   "metadata": {},
   "outputs": [
    {
     "data": {
      "text/plain": [
       "(4172.007826203488, 17405649.30190315)"
      ]
     },
     "execution_count": 32,
     "metadata": {},
     "output_type": "execute_result"
    }
   ],
   "source": [
    "pred_result.meanAbsoluteError,pred_result.meanSquaredError"
   ]
  },
  {
   "cell_type": "code",
   "execution_count": null,
   "metadata": {},
   "outputs": [],
   "source": []
  }
 ],
 "metadata": {
  "kernelspec": {
   "display_name": "Python 3",
   "language": "python",
   "name": "python3"
  },
  "language_info": {
   "codemirror_mode": {
    "name": "ipython",
    "version": 3
   },
   "file_extension": ".py",
   "mimetype": "text/x-python",
   "name": "python",
   "nbconvert_exporter": "python",
   "pygments_lexer": "ipython3",
   "version": "3.8.5"
  }
 },
 "nbformat": 4,
 "nbformat_minor": 4
}
